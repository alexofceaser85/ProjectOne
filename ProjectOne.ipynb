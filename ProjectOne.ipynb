{
 "cells": [
  {
   "cell_type": "code",
   "execution_count": 1,
   "metadata": {},
   "outputs": [
    {
     "name": "stdout",
     "output_type": "stream",
     "text": [
      "     Unnamed: 0  work_year experience_level employment_type  \\\n",
      "0             0       2020               MI              FT   \n",
      "1             1       2020               SE              FT   \n",
      "2             2       2020               SE              FT   \n",
      "3             3       2020               MI              FT   \n",
      "4             4       2020               SE              FT   \n",
      "..          ...        ...              ...             ...   \n",
      "602         602       2022               SE              FT   \n",
      "603         603       2022               SE              FT   \n",
      "604         604       2022               SE              FT   \n",
      "605         605       2022               SE              FT   \n",
      "606         606       2022               MI              FT   \n",
      "\n",
      "                      job_title  salary salary_currency  salary_in_usd  \\\n",
      "0                Data Scientist   70000             EUR          79833   \n",
      "1    Machine Learning Scientist  260000             USD         260000   \n",
      "2             Big Data Engineer   85000             GBP         109024   \n",
      "3          Product Data Analyst   20000             USD          20000   \n",
      "4     Machine Learning Engineer  150000             USD         150000   \n",
      "..                          ...     ...             ...            ...   \n",
      "602               Data Engineer  154000             USD         154000   \n",
      "603               Data Engineer  126000             USD         126000   \n",
      "604                Data Analyst  129000             USD         129000   \n",
      "605                Data Analyst  150000             USD         150000   \n",
      "606                AI Scientist  200000             USD         200000   \n",
      "\n",
      "    employee_residence  remote_ratio company_location company_size  \n",
      "0                   DE             0               DE            L  \n",
      "1                   JP             0               JP            S  \n",
      "2                   GB            50               GB            M  \n",
      "3                   HN             0               HN            S  \n",
      "4                   US            50               US            L  \n",
      "..                 ...           ...              ...          ...  \n",
      "602                 US           100               US            M  \n",
      "603                 US           100               US            M  \n",
      "604                 US             0               US            M  \n",
      "605                 US           100               US            M  \n",
      "606                 IN           100               US            L  \n",
      "\n",
      "[607 rows x 12 columns]\n"
     ]
    }
   ],
   "source": [
    "#Project One for COMP3800 (Data Analytics)\n",
    "import pandas as pd\n",
    "import numpy as np\n",
    "\n",
    "__author__ = 'Alex DeCesare'\n",
    "__version__ = 'Fall 2022'\n",
    "\n",
    "#Task One: Load and Describe the Data Set\n",
    "\n",
    "data = pd.DataFrame(pd.read_csv('./ds_salaries.csv'))\n",
    "print(data)"
   ]
  },
  {
   "cell_type": "markdown",
   "metadata": {},
   "source": [
    "Task One Describe the data set:\n",
    "\n",
    "Link: https://www.kaggle.com/datasets/ruchi798/data-science-job-salaries\n",
    "\n",
    "This is a dataset of job salaries for various data science jobs. This dataset is very detailed, as it includes the following variables, work year, experience level, employment type, job title, salary, employee residence, how much of the job is remote, company location, and company size. I intend to investiage the following three things:\n",
    "\n",
    "1. How does the full time salary change with the job title, which job titles have the highest salaries and which have the lowest?\n",
    "\n",
    "2. How does the salary for a full time job change with the experience level?\n",
    "\n",
    "3. How does the salary change with the company size?"
   ]
  }
 ],
 "metadata": {
  "kernelspec": {
   "display_name": "Python 3.9.2 64-bit",
   "language": "python",
   "name": "python3"
  },
  "language_info": {
   "codemirror_mode": {
    "name": "ipython",
    "version": 3
   },
   "file_extension": ".py",
   "mimetype": "text/x-python",
   "name": "python",
   "nbconvert_exporter": "python",
   "pygments_lexer": "ipython3",
   "version": "3.9.2"
  },
  "orig_nbformat": 4,
  "vscode": {
   "interpreter": {
    "hash": "6708fe8d517425b1237656da5c662f6036934e51d3da3fde11f86d4b89844509"
   }
  }
 },
 "nbformat": 4,
 "nbformat_minor": 2
}
